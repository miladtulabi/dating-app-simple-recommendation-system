{
 "cells": [
  {
   "cell_type": "code",
   "execution_count": 1,
   "id": "250c941e",
   "metadata": {
    "_cell_guid": "b1076dfc-b9ad-4769-8c92-a6c4dae69d19",
    "_uuid": "",
    "execution": {
     "iopub.execute_input": "2022-09-02T16:03:23.222599Z",
     "iopub.status.busy": "2022-09-02T16:03:23.221842Z",
     "iopub.status.idle": "2022-09-02T16:03:23.236326Z",
     "shell.execute_reply": "2022-09-02T16:03:23.235138Z"
    },
    "papermill": {
     "duration": 0.024143,
     "end_time": "2022-09-02T16:03:23.239077",
     "exception": false,
     "start_time": "2022-09-02T16:03:23.214934",
     "status": "completed"
    },
    "tags": []
   },
   "outputs": [],
   "source": [
    "import pandas as pd # data processing"
   ]
  },
  {
   "cell_type": "code",
   "execution_count": 2,
   "id": "717ed8a0",
   "metadata": {
    "execution": {
     "iopub.execute_input": "2022-09-02T16:03:23.248483Z",
     "iopub.status.busy": "2022-09-02T16:03:23.248089Z",
     "iopub.status.idle": "2022-09-02T16:03:23.290482Z",
     "shell.execute_reply": "2022-09-02T16:03:23.289480Z"
    },
    "papermill": {
     "duration": 0.051604,
     "end_time": "2022-09-02T16:03:23.294587",
     "exception": false,
     "start_time": "2022-09-02T16:03:23.242983",
     "status": "completed"
    },
    "tags": []
   },
   "outputs": [
    {
     "name": "stderr",
     "output_type": "stream",
     "text": [
      "/opt/conda/lib/python3.7/site-packages/ipykernel_launcher.py:3: FutureWarning: In a future version of pandas all arguments of DataFrame.drop except for the argument 'labels' will be keyword-only\n",
      "  This is separate from the ipykernel package so we can avoid doing imports until\n"
     ]
    }
   ],
   "source": [
    "dating_app_data = pd.read_csv('../input/dating-app/dating app.csv')\n",
    "# dropping the name column\n",
    "dating_app_data = dating_app_data.drop(\"name\",1)"
   ]
  },
  {
   "cell_type": "code",
   "execution_count": 3,
   "id": "30736b1d",
   "metadata": {
    "execution": {
     "iopub.execute_input": "2022-09-02T16:03:23.305211Z",
     "iopub.status.busy": "2022-09-02T16:03:23.304603Z",
     "iopub.status.idle": "2022-09-02T16:03:23.310670Z",
     "shell.execute_reply": "2022-09-02T16:03:23.309518Z"
    },
    "papermill": {
     "duration": 0.01376,
     "end_time": "2022-09-02T16:03:23.313372",
     "exception": false,
     "start_time": "2022-09-02T16:03:23.299612",
     "status": "completed"
    },
    "tags": []
   },
   "outputs": [],
   "source": [
    "input_user = [{'gender':'F','age': 23, 'userId':'ybcbwudbqubduqb',\n",
    "              'city': 5, 'tar - entj': 1, 'tar - enfj': 2}]\n",
    "input_df = pd.DataFrame(input_user)"
   ]
  },
  {
   "cell_type": "markdown",
   "id": "c3ff41d5",
   "metadata": {
    "papermill": {
     "duration": 0.003283,
     "end_time": "2022-09-02T16:03:23.320379",
     "exception": false,
     "start_time": "2022-09-02T16:03:23.317096",
     "status": "completed"
    },
    "tags": []
   },
   "source": [
    "# Step 1: target gender\n",
    "for simplicity, our assumption is F --> M and vice versa."
   ]
  },
  {
   "cell_type": "code",
   "execution_count": 4,
   "id": "cd9a0a4c",
   "metadata": {
    "execution": {
     "iopub.execute_input": "2022-09-02T16:03:23.329519Z",
     "iopub.status.busy": "2022-09-02T16:03:23.328561Z",
     "iopub.status.idle": "2022-09-02T16:03:23.337961Z",
     "shell.execute_reply": "2022-09-02T16:03:23.336980Z"
    },
    "papermill": {
     "duration": 0.016397,
     "end_time": "2022-09-02T16:03:23.340198",
     "exception": false,
     "start_time": "2022-09-02T16:03:23.323801",
     "status": "completed"
    },
    "tags": []
   },
   "outputs": [],
   "source": [
    "target_user = dating_app_data.copy()\n",
    "input_gender = input_df[\"gender\"].tolist()\n",
    "target_user = target_user.loc[target_user[\"gender\"] != input_gender[0]]"
   ]
  },
  {
   "cell_type": "markdown",
   "id": "3f8c088d",
   "metadata": {
    "papermill": {
     "duration": 0.003048,
     "end_time": "2022-09-02T16:03:23.346823",
     "exception": false,
     "start_time": "2022-09-02T16:03:23.343775",
     "status": "completed"
    },
    "tags": []
   },
   "source": [
    "# Step 2: eliminate the other cities\n",
    "\n",
    "we should make sure our target person is in the same city as the input person."
   ]
  },
  {
   "cell_type": "code",
   "execution_count": 5,
   "id": "62fe961f",
   "metadata": {
    "execution": {
     "iopub.execute_input": "2022-09-02T16:03:23.356095Z",
     "iopub.status.busy": "2022-09-02T16:03:23.355485Z",
     "iopub.status.idle": "2022-09-02T16:03:23.361564Z",
     "shell.execute_reply": "2022-09-02T16:03:23.360398Z"
    },
    "papermill": {
     "duration": 0.013967,
     "end_time": "2022-09-02T16:03:23.364162",
     "exception": false,
     "start_time": "2022-09-02T16:03:23.350195",
     "status": "completed"
    },
    "tags": []
   },
   "outputs": [],
   "source": [
    "input_city = input_df[\"city\"].tolist()\n",
    "target_user = target_user.loc[target_user[\"city\"] == input_city[0]]"
   ]
  },
  {
   "cell_type": "markdown",
   "id": "e236cce3",
   "metadata": {
    "papermill": {
     "duration": 0.003409,
     "end_time": "2022-09-02T16:03:23.371414",
     "exception": false,
     "start_time": "2022-09-02T16:03:23.368005",
     "status": "completed"
    },
    "tags": []
   },
   "source": [
    "# third step: narrowing down our choices by age\n",
    "we only choose age differences to be as high as 2."
   ]
  },
  {
   "cell_type": "code",
   "execution_count": 6,
   "id": "1a266f26",
   "metadata": {
    "execution": {
     "iopub.execute_input": "2022-09-02T16:03:23.380914Z",
     "iopub.status.busy": "2022-09-02T16:03:23.380299Z",
     "iopub.status.idle": "2022-09-02T16:03:23.387004Z",
     "shell.execute_reply": "2022-09-02T16:03:23.385966Z"
    },
    "papermill": {
     "duration": 0.015224,
     "end_time": "2022-09-02T16:03:23.390370",
     "exception": false,
     "start_time": "2022-09-02T16:03:23.375146",
     "status": "completed"
    },
    "tags": []
   },
   "outputs": [],
   "source": [
    "input_age = input_df[\"age\"].tolist()\n",
    "target_user = target_user.loc[target_user[\"age\"] < input_age[0] + 2]\n",
    "target_user = target_user.loc[target_user[\"age\"] > input_age[0] - 2]"
   ]
  },
  {
   "cell_type": "code",
   "execution_count": 7,
   "id": "10303bb3",
   "metadata": {
    "execution": {
     "iopub.execute_input": "2022-09-02T16:03:23.400537Z",
     "iopub.status.busy": "2022-09-02T16:03:23.400064Z",
     "iopub.status.idle": "2022-09-02T16:03:23.427691Z",
     "shell.execute_reply": "2022-09-02T16:03:23.426111Z"
    },
    "papermill": {
     "duration": 0.037834,
     "end_time": "2022-09-02T16:03:23.432299",
     "exception": false,
     "start_time": "2022-09-02T16:03:23.394465",
     "status": "completed"
    },
    "tags": []
   },
   "outputs": [
    {
     "name": "stderr",
     "output_type": "stream",
     "text": [
      "/opt/conda/lib/python3.7/site-packages/ipykernel_launcher.py:1: FutureWarning: In a future version of pandas all arguments of DataFrame.drop except for the argument 'labels' will be keyword-only\n",
      "  \"\"\"Entry point for launching an IPython kernel.\n",
      "/opt/conda/lib/python3.7/site-packages/ipykernel_launcher.py:2: FutureWarning: In a future version of pandas all arguments of DataFrame.drop except for the argument 'labels' will be keyword-only\n",
      "  \n",
      "/opt/conda/lib/python3.7/site-packages/ipykernel_launcher.py:5: FutureWarning: In a future version of pandas all arguments of concat except for the argument 'objs' will be keyword-only\n",
      "  \"\"\"\n"
     ]
    }
   ],
   "source": [
    "user_Profile = input_df.drop('gender',1).drop('age',1).drop('userId',1).drop('city',1)\n",
    "pers_Table = target_user.drop('gender',1).drop('age',1).drop('userId',1).drop('city',1)\n",
    "\n",
    "recommendation_Table = ((pers_Table*user_Profile.transpose()[0]).sum(axis=1))/(user_Profile.transpose()[0].sum())\n",
    "target = pd.concat([target_user, recommendation_Table],1)\n",
    "target.rename({0: 'Score'}, axis=1, inplace=True)"
   ]
  },
  {
   "cell_type": "code",
   "execution_count": 8,
   "id": "740a847c",
   "metadata": {
    "execution": {
     "iopub.execute_input": "2022-09-02T16:03:23.444609Z",
     "iopub.status.busy": "2022-09-02T16:03:23.443772Z",
     "iopub.status.idle": "2022-09-02T16:03:23.459714Z",
     "shell.execute_reply": "2022-09-02T16:03:23.458591Z"
    },
    "papermill": {
     "duration": 0.024751,
     "end_time": "2022-09-02T16:03:23.463075",
     "exception": false,
     "start_time": "2022-09-02T16:03:23.438324",
     "status": "completed"
    },
    "tags": []
   },
   "outputs": [
    {
     "data": {
      "text/plain": [
       "1274                             54e38b24140ba0416a8b47f7\n",
       "2195                             551ee419ca6da134958b4951\n",
       "2169                             551e8772180ba0e0708b4789\n",
       "2400                             552276690a6ea1b3538b4ab3\n",
       "2144                             551da6cd1c0ba0c5428b48d9\n",
       "2564                             552abb2eea6da14d6a8b4784\n",
       "2586                             552d6c85c66da11d1d8b469f\n",
       "2368                             5521dc67086ea1e9978b4c62\n",
       "1258                             54e0a220e86da169318b4f2e\n",
       "2382                             5522566b160ba0c4418b4956\n",
       "2608                             55300145c76da182088b4676\n",
       "2880                             5545995de86da1f6248b50e7\n",
       "1230                             54da7cc5c76da1605e8b45e0\n",
       "2375                             552242b3cd6da1ab138b4591\n",
       "1221                             54d911baea6da1ed868b489a\n",
       "2888    CRY5RO0lgr3aI+zZ2pMofjnaT0lx1dANXjbL5uWGBxDpBs...\n",
       "1202                             54d70521e86da1b24c8b465f\n",
       "540                              53c39723150ba06e458b91a3\n",
       "Name: userId, dtype: object"
      ]
     },
     "execution_count": 8,
     "metadata": {},
     "output_type": "execute_result"
    }
   ],
   "source": [
    "target = target.sort_values('Score', axis = 0, ascending = False)\n",
    "target = target.loc[target[\"Score\"] > 0.5]\n",
    "target['userId']"
   ]
  },
  {
   "cell_type": "code",
   "execution_count": null,
   "id": "7ea1dc14",
   "metadata": {
    "papermill": {
     "duration": 0.004124,
     "end_time": "2022-09-02T16:03:23.472111",
     "exception": false,
     "start_time": "2022-09-02T16:03:23.467987",
     "status": "completed"
    },
    "tags": []
   },
   "outputs": [],
   "source": []
  }
 ],
 "metadata": {
  "kernelspec": {
   "display_name": "Python 3",
   "language": "python",
   "name": "python3"
  },
  "language_info": {
   "codemirror_mode": {
    "name": "ipython",
    "version": 3
   },
   "file_extension": ".py",
   "mimetype": "text/x-python",
   "name": "python",
   "nbconvert_exporter": "python",
   "pygments_lexer": "ipython3",
   "version": "3.7.12"
  },
  "papermill": {
   "default_parameters": {},
   "duration": 10.589951,
   "end_time": "2022-09-02T16:03:24.202039",
   "environment_variables": {},
   "exception": null,
   "input_path": "__notebook__.ipynb",
   "output_path": "__notebook__.ipynb",
   "parameters": {},
   "start_time": "2022-09-02T16:03:13.612088",
   "version": "2.3.4"
  }
 },
 "nbformat": 4,
 "nbformat_minor": 5
}
