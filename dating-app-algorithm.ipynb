{
   "outputs": [],
   "source": [
    "import pandas as pd # data processing"
   ]
  },
  {
   "cell_type": "code",
   "outputs": [
    {
     "name": "stderr",
     "output_type": "stream",
     "text": [
      "/opt/conda/lib/python3.7/site-packages/ipykernel_launcher.py:3: FutureWarning: In a future version of pandas all arguments of DataFrame.drop except for the argument 'labels' will be keyword-only\n",
      "  This is separate from the ipykernel package so we can avoid doing imports until\n"
     ]
    }
   ],
   "source": [
    "dating_app_data = pd.read_csv('../input/dating-app/dating app.csv')\n",
    "# dropping the name column\n",
    "dating_app_data = dating_app_data.drop(\"name\",1)"
   ]
  },
  {
   "cell_type": "code",
   "outputs": [],
   "source": [
    "input_user = [{'gender':'F','age': 23, 'userId':'ybcbwudbqubduqb',\n",
    "              'city': 5, 'tar - entj': 1, 'tar - enfj': 2}]\n",
    "input_df = pd.DataFrame(input_user)"
   ]
  },
  {
   "cell_type": "markdown",  
   "source": [
    "# Step 1: target gender\n",
    "for simplicity, our assumption is F --> M and vice versa."
   ]
  },
  {
   "cell_type": "code",
   "outputs": [],
   "source": [
    "target_user = dating_app_data.copy()\n",
    "input_gender = input_df[\"gender\"].tolist()\n",
    "target_user = target_user.loc[target_user[\"gender\"] != input_gender[0]]"
   ]
  },
  {
   "cell_type": "markdown",
   "source": [
    "# Step 2: eliminate the other cities\n",
    "\n",
    "we should make sure our target person is in the same city as the input person."
   ]
  },
  {
   "cell_type": "code",
   "outputs": [],
   "source": [
    "input_city = input_df[\"city\"].tolist()\n",
    "target_user = target_user.loc[target_user[\"city\"] == input_city[0]]"
   ]
  },
  {
   "cell_type": "markdown",
   "source": [
    "# third step: narrowing down our choices by age\n",
    "we only choose age differences to be as high as 2."
   ]
  },
  {
   "cell_type": "code",
   "outputs": [],
   "source": [
    "input_age = input_df[\"age\"].tolist()\n",
    "target_user = target_user.loc[target_user[\"age\"] < input_age[0] + 2]\n",
    "target_user = target_user.loc[target_user[\"age\"] > input_age[0] - 2]"
   ]
  },
  {
   "cell_type": "code",
   "outputs": [],
   "source": [
    "user_Profile = input_df.drop('gender',1).drop('age',1).drop('userId',1).drop('city',1)\n",
    "pers_Table = target_user.drop('gender',1).drop('age',1).drop('userId',1).drop('city',1)\n",
    "\n",
    "recommendation_Table = ((pers_Table*user_Profile.transpose()[0]).sum(axis=1))/(user_Profile.transpose()[0].sum())\n",
    "target = pd.concat([target_user, recommendation_Table],1)\n",
    "target.rename({0: 'Score'}, axis=1, inplace=True)"
   ]
  },
  {
   "cell_type": "code",
   "outputs": [
    {
     "data": {
      "text/plain": [
       "1274                             54e38b24140ba0416a8b47f7\n",
       "2195                             551ee419ca6da134958b4951\n",
       "2169                             551e8772180ba0e0708b4789\n",
       "2400                             552276690a6ea1b3538b4ab3\n",
       "2144                             551da6cd1c0ba0c5428b48d9\n",
       "2564                             552abb2eea6da14d6a8b4784\n",
       "2586                             552d6c85c66da11d1d8b469f\n",
       "2368                             5521dc67086ea1e9978b4c62\n",
       "1258                             54e0a220e86da169318b4f2e\n",
       "2382                             5522566b160ba0c4418b4956\n",
       "2608                             55300145c76da182088b4676\n",
       "2880                             5545995de86da1f6248b50e7\n",
       "1230                             54da7cc5c76da1605e8b45e0\n",
       "2375                             552242b3cd6da1ab138b4591\n",
       "1221                             54d911baea6da1ed868b489a\n",
       "2888    CRY5RO0lgr3aI+zZ2pMofjnaT0lx1dANXjbL5uWGBxDpBs...\n",
       "1202                             54d70521e86da1b24c8b465f\n",
       "540                              53c39723150ba06e458b91a3\n",
       "Name: userId, dtype: object"
      ]
     },
     "execution_count": 8,
     "metadata": {},
     "output_type": "execute_result"
    }
   ],
   "source": [
    "target = target.sort_values('Score', axis = 0, ascending = False)\n",
    "target = target.loc[target[\"Score\"] > 0.5]\n",
    "target['userId']"
   ]
  },
 ],
 "metadata": {
  "kernelspec": {
   "display_name": "Python 3",
   "language": "python",
   "name": "python3"
  },
  "language_info": {
   "codemirror_mode": {
    "name": "ipython",
    "version": 3
   },
   "file_extension": ".py",
   "mimetype": "text/x-python",
   "name": "python",
   "nbconvert_exporter": "python",
   "pygments_lexer": "ipython3",
   "version": "3.7.12"
  },
  "papermill": {
   "default_parameters": {},
   "duration": 10.589951,
   "end_time": "2022-09-02T16:03:24.202039",
   "environment_variables": {},
   "exception": null,
   "input_path": "__notebook__.ipynb",
   "output_path": "__notebook__.ipynb",
   "parameters": {},
   "start_time": "2022-09-02T16:03:13.612088",
   "version": "2.3.4"
  }
 },
 "nbformat": 4,
 "nbformat_minor": 5
}
